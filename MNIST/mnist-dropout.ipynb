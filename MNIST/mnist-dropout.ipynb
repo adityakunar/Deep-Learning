{
 "cells": [
  {
   "cell_type": "markdown",
   "metadata": {},
   "source": [
    "# Implementing Dropout for MNIST"
   ]
  },
  {
   "cell_type": "code",
   "execution_count": 1,
   "metadata": {},
   "outputs": [],
   "source": [
    "import torch\n",
    "import torchvision\n",
    "import torch.nn as nn\n",
    "import torch.nn.functional as F\n",
    "import torch.optim as optim\n",
    "from torch.autograd import Variable\n",
    "\n",
    "batch_size_train = 4\n",
    "learning_rate = 0.1\n",
    "momentum = 0.9\n",
    "dropout_rate_hidden = 0.5\n",
    "dropout_rate_input = 0.2"
   ]
  },
  {
   "cell_type": "markdown",
   "metadata": {},
   "source": [
    "### Data"
   ]
  },
  {
   "cell_type": "code",
   "execution_count": 2,
   "metadata": {},
   "outputs": [],
   "source": [
    "trainloader = torch.utils.data.DataLoader(\n",
    "  torchvision.datasets.MNIST(root='../data', train=True, download=True,\n",
    "                             transform=torchvision.transforms.Compose([\n",
    "                               torchvision.transforms.ToTensor(),\n",
    "                               torchvision.transforms.Normalize(\n",
    "                                 (0.1307,), (0.3081,))\n",
    "                             ])),\n",
    "  batch_size=batch_size_train, shuffle=True)\n",
    "\n",
    "\n",
    "use_gpu = torch.cuda.is_available()"
   ]
  },
  {
   "cell_type": "markdown",
   "metadata": {},
   "source": [
    "# Weight Initialization"
   ]
  },
  {
   "cell_type": "code",
   "execution_count": 3,
   "metadata": {},
   "outputs": [],
   "source": [
    "def init_weights(m):\n",
    "    if type(m) == nn.Linear:\n",
    "        # This may need to be changed to just normal_\n",
    "        nn.init.xavier_normal_(m.weight)\n",
    "        # Constant Bias\n",
    "        m.bias.data.fill_(0.01)"
   ]
  },
  {
   "cell_type": "markdown",
   "metadata": {},
   "source": [
    "### Bernoulli dropout"
   ]
  },
  {
   "cell_type": "code",
   "execution_count": 4,
   "metadata": {},
   "outputs": [],
   "source": [
    "class BernoulliDropout(nn.Module):\n",
    "    def __init__(self, p=0.5):\n",
    "        super(BernoulliDropout, self).__init__()\n",
    "        if p < 0 or p > 1:\n",
    "            raise ValueError(\"dropout probability has to be between 0 and 1, \"\n",
    "                             \"but got {}\".format(p))\n",
    "        self.p = p\n",
    "        \n",
    "    def forward(self, x):\n",
    "        binomial = torch.distributions.binomial.Binomial(probs=self.p)\n",
    "        return x * binomial.sample(x.size())"
   ]
  },
  {
   "cell_type": "markdown",
   "metadata": {},
   "source": [
    "### Gaussian dropout"
   ]
  },
  {
   "cell_type": "code",
   "execution_count": 5,
   "metadata": {},
   "outputs": [],
   "source": [
    "class GaussianDropout(nn.Module):\n",
    "    def __init__(self, p=0.5):\n",
    "        super(GaussianDropout, self).__init__()\n",
    "        alpha = p/(1-p)\n",
    "        self.alpha = torch.Tensor([alpha])\n",
    "        \n",
    "    def forward(self, x):\n",
    "#         Sample noise   e ~ N(1, alpha)\n",
    "        epsilon = Variable(torch.randn(x.size()) * self.alpha + 1)\n",
    "        if use_gpu:\n",
    "            epsilon = epsilon.cuda()\n",
    "        return x * epsilon\n",
    "        "
   ]
  },
  {
   "cell_type": "markdown",
   "metadata": {},
   "source": [
    "### Feed forward network"
   ]
  },
  {
   "cell_type": "code",
   "execution_count": 6,
   "metadata": {},
   "outputs": [],
   "source": [
    "class Net(nn.Module):\n",
    "    def __init__(self):\n",
    "        super(Net, self).__init__()\n",
    "        \n",
    "#         self.do1 = nn.Dropout(p=dropout_rate_hidden) \n",
    "#         self.do2 = nn.Dropout(p=dropout_rate_input)\n",
    "\n",
    "        self.do1 = GaussianDropout(dropout_rate_hidden)\n",
    "        self.do2 = GaussianDropout(dropout_rate_input)\n",
    "        \n",
    "        self.fc1 = nn.Linear(28*28, 1024)\n",
    "        self.fc2 = nn.Linear(1024, 1024)\n",
    "        self.fc3 = nn.Linear(1024, 10)\n",
    "\n",
    "    def forward(self, x):\n",
    "        x = self.do2(x.view(-1,28*28))\n",
    "        x = F.relu(self.fc1(self.do1(x)))\n",
    "        x = F.relu(self.fc2(self.do1(x)))\n",
    "        x = self.fc3(x)\n",
    "        return x"
   ]
  },
  {
   "cell_type": "markdown",
   "metadata": {},
   "source": [
    "### Training"
   ]
  },
  {
   "cell_type": "code",
   "execution_count": null,
   "metadata": {},
   "outputs": [
    {
     "name": "stdout",
     "output_type": "stream",
     "text": [
      "[1,   100] loss: nan\n",
      "[1,   200] loss: nan\n",
      "[1,   300] loss: nan\n",
      "[1,   400] loss: nan\n",
      "[1,   500] loss: nan\n",
      "[1,   600] loss: nan\n",
      "[1,   700] loss: nan\n",
      "[1,   800] loss: nan\n",
      "[1,   900] loss: nan\n",
      "[1,  1000] loss: nan\n",
      "[1,  1100] loss: nan\n",
      "[1,  1200] loss: nan\n",
      "[1,  1300] loss: nan\n",
      "[1,  1400] loss: nan\n",
      "[1,  1500] loss: nan\n",
      "[1,  1600] loss: nan\n",
      "[1,  1700] loss: nan\n",
      "[1,  1800] loss: nan\n",
      "[1,  1900] loss: nan\n",
      "[1,  2000] loss: nan\n",
      "[1,  2100] loss: nan\n",
      "[1,  2200] loss: nan\n",
      "[1,  2300] loss: nan\n",
      "[1,  2400] loss: nan\n",
      "[1,  2500] loss: nan\n",
      "[1,  2600] loss: nan\n",
      "[1,  2700] loss: nan\n",
      "[1,  2800] loss: nan\n",
      "[1,  2900] loss: nan\n",
      "[1,  3000] loss: nan\n",
      "[1,  3100] loss: nan\n",
      "[1,  3200] loss: nan\n",
      "[1,  3300] loss: nan\n",
      "[1,  3400] loss: nan\n",
      "[1,  3500] loss: nan\n",
      "[1,  3600] loss: nan\n",
      "[1,  3700] loss: nan\n",
      "[1,  3800] loss: nan\n",
      "[1,  3900] loss: nan\n",
      "[1,  4000] loss: nan\n",
      "[1,  4100] loss: nan\n",
      "[1,  4200] loss: nan\n",
      "[1,  4300] loss: nan\n",
      "[1,  4400] loss: nan\n",
      "[1,  4500] loss: nan\n",
      "[1,  4600] loss: nan\n",
      "[1,  4700] loss: nan\n",
      "[1,  4800] loss: nan\n",
      "[1,  4900] loss: nan\n",
      "[1,  5000] loss: nan\n",
      "[1,  5100] loss: nan\n",
      "[1,  5200] loss: nan\n",
      "[1,  5300] loss: nan\n",
      "[1,  5400] loss: nan\n",
      "[1,  5500] loss: nan\n",
      "[1,  5600] loss: nan\n",
      "[1,  5700] loss: nan\n",
      "[1,  5800] loss: nan\n",
      "[1,  5900] loss: nan\n",
      "[1,  6000] loss: nan\n",
      "[1,  6100] loss: nan\n",
      "[1,  6200] loss: nan\n",
      "[1,  6300] loss: nan\n",
      "[1,  6400] loss: nan\n",
      "[1,  6500] loss: nan\n",
      "[1,  6600] loss: nan\n",
      "[1,  6700] loss: nan\n",
      "[1,  6800] loss: nan\n",
      "[1,  6900] loss: nan\n",
      "[1,  7000] loss: nan\n",
      "[1,  7100] loss: nan\n",
      "[1,  7200] loss: nan\n",
      "[1,  7300] loss: nan\n",
      "[1,  7400] loss: nan\n",
      "[1,  7500] loss: nan\n",
      "[1,  7600] loss: nan\n",
      "[1,  7700] loss: nan\n",
      "[1,  7800] loss: nan\n",
      "[1,  7900] loss: nan\n",
      "[1,  8000] loss: nan\n",
      "[1,  8100] loss: nan\n",
      "[1,  8200] loss: nan\n",
      "[1,  8300] loss: nan\n",
      "[1,  8400] loss: nan\n",
      "[1,  8500] loss: nan\n",
      "[1,  8600] loss: nan\n",
      "[1,  8700] loss: nan\n",
      "[1,  8800] loss: nan\n",
      "[1,  8900] loss: nan\n",
      "[1,  9000] loss: nan\n",
      "[1,  9100] loss: nan\n",
      "[1,  9200] loss: nan\n",
      "[1,  9300] loss: nan\n",
      "[1,  9400] loss: nan\n",
      "[1,  9500] loss: nan\n",
      "[1,  9600] loss: nan\n",
      "[1,  9700] loss: nan\n",
      "[1,  9800] loss: nan\n",
      "[1,  9900] loss: nan\n",
      "[1, 10000] loss: nan\n",
      "[1, 10100] loss: nan\n",
      "[1, 10200] loss: nan\n",
      "[1, 10300] loss: nan\n",
      "[1, 10400] loss: nan\n",
      "[1, 10500] loss: nan\n",
      "[1, 10600] loss: nan\n",
      "[1, 10700] loss: nan\n"
     ]
    }
   ],
   "source": [
    "net = Net()\n",
    "net.apply(init_weights)\n",
    "\n",
    "if use_gpu:\n",
    "    net = net.cuda()\n",
    "\n",
    "\n",
    "criterion = nn.CrossEntropyLoss()\n",
    "optimizer = optim.SGD(net.parameters(), lr=learning_rate, momentum=momentum)\n",
    "\n",
    "#scheduler = optim.lr_scheduler.ExponentialLR(optimizer, gamma = 0.95)\n",
    "\n",
    "\n",
    "for epoch in range(2):  # loop over the dataset multiple times\n",
    "    running_loss = 0.0\n",
    "    for i, data in enumerate(trainloader, 0):\n",
    "        # get the inputs\n",
    "        inputs, labels = data\n",
    "        if use_gpu:\n",
    "            inputs = inputs.cuda()\n",
    "            labels = labels.cuda()\n",
    "        # zero the parameter gradients\n",
    "        optimizer.zero_grad()\n",
    "\n",
    "        # forward + backward + optimize\n",
    "        outputs = net(inputs)\n",
    "        loss = criterion(outputs, labels)\n",
    "        loss.backward()\n",
    "        optimizer.step()\n",
    "        #scheduler.step()\n",
    "\n",
    "        # print statistics\n",
    "        running_loss += loss.item()\n",
    "        if i % 100 == 99:    # print every 100 mini-batches\n",
    "            print('[%d, %5d] loss: %.3f' %\n",
    "                  (epoch + 1, i + 1, running_loss / 100))\n",
    "            running_loss = 0.0\n",
    "            niter = epoch * len(trainloader) + i\n",
    "print('Finished Training')"
   ]
  },
  {
   "cell_type": "markdown",
   "metadata": {
    "collapsed": true
   },
   "source": [
    "### Testing\n",
    "Comparison of classification error for Bernoulli and Gaussian dropout."
   ]
  },
  {
   "cell_type": "code",
   "execution_count": 29,
   "metadata": {},
   "outputs": [],
   "source": [
    "testSet = torchvision.datasets.MNIST(\n",
    "    root='../data',\n",
    "    train=False,\n",
    "    download=True,\n",
    "    transform=torchvision.transforms.Compose([\n",
    "        torchvision.transforms.ToTensor(),\n",
    "        torchvision.transforms.Normalize((0.1307,), (0.3081,))])\n",
    ")\n",
    "\n",
    "testLoader = torch.utils.data.DataLoader(\n",
    "    testSet,\n",
    "    batch_size=batch_size_train,\n",
    "    shuffle=False,\n",
    "    num_workers=0\n",
    ")"
   ]
  },
  {
   "cell_type": "code",
   "execution_count": 30,
   "metadata": {},
   "outputs": [
    {
     "name": "stdout",
     "output_type": "stream",
     "text": [
      "Accuracy of the network on the 10000 test images: 92 %\n"
     ]
    }
   ],
   "source": [
    "total = 0\n",
    "correct = 0\n",
    "with torch.no_grad():\n",
    "    for data in testLoader:\n",
    "        images, labels = data\n",
    "        if use_gpu:\n",
    "            images = images.cuda()\n",
    "            labels = labels.cuda()\n",
    "        outputs = net(images)\n",
    "        _, predicted = torch.max(outputs.data, 1)\n",
    "        total += labels.size(0)\n",
    "        correct += (predicted == labels).sum().item()\n",
    "\n",
    "print('Accuracy of the network on the 10000 test images: %d %%' % (\n",
    "    100 * correct / total))"
   ]
  },
  {
   "cell_type": "code",
   "execution_count": null,
   "metadata": {},
   "outputs": [],
   "source": []
  }
 ],
 "metadata": {
  "kernelspec": {
   "display_name": "Python 3",
   "language": "python",
   "name": "python3"
  },
  "language_info": {
   "codemirror_mode": {
    "name": "ipython",
    "version": 3
   },
   "file_extension": ".py",
   "mimetype": "text/x-python",
   "name": "python",
   "nbconvert_exporter": "python",
   "pygments_lexer": "ipython3",
   "version": "3.7.4"
  }
 },
 "nbformat": 4,
 "nbformat_minor": 2
}
