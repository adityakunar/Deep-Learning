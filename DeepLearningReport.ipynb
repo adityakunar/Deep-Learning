{
  "nbformat": 4,
  "nbformat_minor": 0,
  "metadata": {
    "colab": {
      "name": "DeepLearningReport.ipynb",
      "provenance": [],
      "collapsed_sections": [],
      "toc_visible": true
    },
    "kernelspec": {
      "name": "python3",
      "display_name": "Python 3"
    }
  },
  "cells": [
    {
      "cell_type": "markdown",
      "metadata": {
        "id": "Yp24I228robd",
        "colab_type": "text"
      },
      "source": [
        "# **Dropout**: A simple way to prevent neural networks from overfitting [![Open In Colab](https://colab.research.google.com/assets/colab-badge.svg)](https://colab.research.google.com/drive/1ePCEAgqRI_GPTEtjmjlXohwPTc7Mcu2U#scrollTo=u60rVm3rLyNA)"
      ]
    },
    {
      "cell_type": "markdown",
      "metadata": {
        "id": "u60rVm3rLyNA",
        "colab_type": "text"
      },
      "source": [
        "* Andrea Alfieri - 5128315\n",
        "* Aditya Kunar - 5074274 \n",
        "* Sharon Grundmann - 4973720\n",
        "* Avinash Saravanan - 4993381"
      ]
    },
    {
      "cell_type": "markdown",
      "metadata": {
        "id": "H52K3mnTYxxc",
        "colab_type": "text"
      },
      "source": [
        "## Abstract"
      ]
    },
    {
      "cell_type": "markdown",
      "metadata": {
        "id": "jWssSYVgL2IM",
        "colab_type": "text"
      },
      "source": [
        "In this project, we attempt to reproduce Table 10 of the paper [Dropout: A simple way to prevent neural networks from overfitting](https://www.cs.toronto.edu/~hinton/absps/JMLRdropout.pdf). Table 10 shows a comparison of classification error between Bernoulli and Gaussian dropout implemented on [MNIST](https://http://yann.lecun.com/exdb/mnist/) and [CIFAR-10](https://https://www.cs.toronto.edu/~kriz/cifar.html) datasets. We attempted to reproduce the networks in the paper using Pytorch. For MNIST, we found that while the accuracy was lower, the general trend of Gaussian dropout being higher than Bernoulli was successfully reproduced."
      ]
    },
    {
      "cell_type": "markdown",
      "metadata": {
        "id": "JO9vtxBqZVcf",
        "colab_type": "text"
      },
      "source": [
        "## Introduction\n",
        "Overfiting is a common problem when it comes to training deep neural networks with large number of parameters. Large networks are also slow to use, making it difficult to deal with overfitting by combining the predictions of many\n",
        "different large neural nets at test time. Dropout is a technique that addresses these issues. It prevents overfitting and provides a way of approximately combining exponentially many different neural network architectures efficiently.\n",
        "\n",
        "The term “dropout” refers to dropping out units (hidden and\n",
        "visible) in a neural network.  By dropping a unit out, we temporarily remove it from the network, along with all its incoming and outgoing connections. During training, dropout amounts to sampling from an exponential number of different “thinned” networks and at test time, it approximates the effect of averaging the predictions of all these thinned networks by using a single unthinned network that has smaller weights.\n",
        "\n",
        "The authors of the original Dropout paper define *p* as the probability of retaining a unit in the network.  If a unit is retained with\n",
        "probability *p* during training, the outgoing weights of that unit are multiplied by *p* at test time. Figure 1 shows an example architecture of a neural network with and without dropout.\n",
        "\n",
        "![Two graphs showing the architecture of a network with dropout and the other without dropout](https://i.stack.imgur.com/p3Pi2.png)\n",
        "\n",
        "Figure 1: **Left**: A standard neural net with 2 hidden layers. **Right**:\n",
        "An example of a thinned net produced by applying dropout to the network on the left.\n",
        "\n",
        "\n",
        "The standard dropout technique described in the Dropout paper makes use of a Bernoulli distribution. For any layer in a net,is a vector of independent Bernoulli random variables each of which has probability *p* of being 1. This vector is sampled and multiplied element-wise with the outputs of that layer, to create the thinned outputs. The thinned outputs are used as input to the next layer. This process is repeated for each layer. This idea can be generalized by multiplying the activations with random variables drawn from other distributions such as a Gaussian. The authors of the paper state that using drawing from a Gaussian distribution of *N*(1,1) works just as well or even better than the Bernoulli noise. \n",
        "\n",
        "We attempt to arrive at the same conclusion in our project by reproducing the experiment results of the Bernoulli and Gaussian dropout results shown in the original Dropout paper.\n",
        "\n",
        "\n"
      ]
    },
    {
      "cell_type": "markdown",
      "metadata": {
        "id": "CvCxH6cOZq--",
        "colab_type": "text"
      },
      "source": [
        "## Experimental Setup\n",
        "\n",
        "The authors implement two neural architectures for the MNIST and CIFAR-10 datasets. Each network makes use of either a Bernoulli dropout or a Gaussian dropout. This results in 4 varying networks which are compared in Table 10 of the original paper. The architectures are summarized in the following table  taken from the paper. \n",
        "\n",
        "| Dataset  | Architecture  | Bernoulli dropout  | Gaussian dropout  |\n",
        "|:---:|:---:|:---:|:---:|\n",
        "| MNIST | 2 layers, 1024 units each | 1.08 ± 0.04 | 0.95 ± 0.04 |\n",
        "| CIFAR-10 | 3 conv + 2 fully connected layers | 12.6 ± 0.1 | 12.5 ± 0.1 |\n",
        "\n",
        "<p align=\"center\">\n",
        "Table 2: Table 10 of Dropout paper showing comparison of classification error % with Bernoulli and Gaussian dropout\n",
        "</p>\n"
      ]
    },
    {
      "cell_type": "markdown",
      "metadata": {
        "id": "TaPSGE3vUUA3",
        "colab_type": "text"
      },
      "source": [
        "## Datasets\n"
      ]
    },
    {
      "cell_type": "markdown",
      "metadata": {
        "id": "2N7BCMHI-7ox",
        "colab_type": "text"
      },
      "source": [
        "#### MNIST\n",
        "The MNIST (Modified National Institute of Standards and Technology) is a dataset consisting of handwritten digits.\n",
        "\n",
        "The MNIST dataset consists of 60,000 training and 10,000 test examples each representing a 28x28 digit image. \n",
        "\n",
        "The network architecture described in Table 10 is a 2 layer network with 1024 units in each layer. For dropout, the authors used *p* = 0.5 in the hidden layers and *p* = 0.8 in the input layer. \n"
      ]
    },
    {
      "cell_type": "markdown",
      "metadata": {
        "id": "n-o3oxWR3dc9",
        "colab_type": "text"
      },
      "source": [
        "The following code shows we get the MNIST dataset using PyTorch together with sample images from the dataset."
      ]
    },
    {
      "cell_type": "code",
      "metadata": {
        "id": "vuFzrjAR_wV4",
        "colab_type": "code",
        "colab": {}
      },
      "source": [
        "batch_size_train = 4\n",
        "\n",
        "mnist_trainloader = torch.utils.data.DataLoader(\n",
        "  torchvision.datasets.MNIST(root='./data', train=True, download=True,\n",
        "                             transform=torchvision.transforms.Compose([\n",
        "                               torchvision.transforms.ToTensor(),\n",
        "                               torchvision.transforms.Normalize(\n",
        "                                 (0.1307,), (0.3081,))\n",
        "                             ])),\n",
        "  batch_size=batch_size_train, shuffle=True)\n",
        "\n",
        "\n",
        "use_gpu = torch.cuda.is_available()"
      ],
      "execution_count": 0,
      "outputs": []
    },
    {
      "cell_type": "code",
      "metadata": {
        "id": "2SWaLlYD_bBc",
        "colab_type": "code",
        "outputId": "42cfe520-cb72-47a8-9887-80efa81cee30",
        "colab": {
          "base_uri": "https://localhost:8080/",
          "height": 155
        }
      },
      "source": [
        "# Some example images from the MNIST dataset"
      ],
      "execution_count": 0,
      "outputs": [
        {
          "output_type": "stream",
          "text": [
            "Clipping input data to the valid range for imshow with RGB data ([0..1] for floats or [0..255] for integers).\n"
          ],
          "name": "stderr"
        },
        {
          "output_type": "display_data",
          "data": {
            "image/png": "[encoded data removed]",
            "text/plain": [
              "<Figure size 432x288 with 1 Axes>"
            ]
          },
          "metadata": {
            "tags": [],
            "needs_background": "light"
          }
        }
      ]
    },
    {
      "cell_type": "markdown",
      "metadata": {
        "id": "L34_ug7M8ha-",
        "colab_type": "text"
      },
      "source": [
        "#### CIFAR-10\n",
        "The CIFAR-10 dataset consists of 60000 32x32 colour images in 10 classes, with 6000 images per class. There are 50000 training images and 10000 test images. The images were preprocessed in the original paper by doing global contrast normalization in each color channel followed by ZCA whitening. This follows the technique adopted in the original paper. The network architecture uses 3 convolutional layers each followed by a max-pooling layer. The convolutional layers have 96, 128 and 256 filters. The convolutional layers are followed by 2 fully connected layers having 2048 units each. Dropout was applied to all the network layers with the probability of retaining the unit being *p* = (0.9, 0.75, 0.75, 0.5, 0.5, 0.5, 0.5), starting from the input layer. \n",
        "Here we show an example of the images that are found in the training set:"
      ]
    },
    {
      "cell_type": "code",
      "metadata": {
        "id": "3pRw-GjYTP-u",
        "colab_type": "code",
        "outputId": "cb32b487-d234-41ca-f71b-7fbf9acf80ab",
        "colab": {
          "base_uri": "https://localhost:8080/",
          "height": 129
        }
      },
      "source": [
        "# Some example images from the CIFAR-10 dataset"
      ],
      "execution_count": 0,
      "outputs": [
        {
          "output_type": "stream",
          "text": [
            "Clipping input data to the valid range for imshow with RGB data ([0..1] for floats or [0..255] for integers).\n"
          ],
          "name": "stderr"
        },
        {
          "output_type": "display_data",
          "data": {
            "image/png": "[encoded data removed]",
            "text/plain": [
              "<Figure size 432x288 with 1 Axes>"
            ]
          },
          "metadata": {
            "tags": [],
            "needs_background": "light"
          }
        },
        {
          "output_type": "stream",
          "text": [
            "['car', 'car', 'car', 'plane', 'dog', 'deer', 'cat', 'ship']\n"
          ],
          "name": "stdout"
        }
      ]
    },
    {
      "cell_type": "markdown",
      "metadata": {
        "id": "B3p8WlmyU2UC",
        "colab_type": "text"
      },
      "source": [
        "To show what dropout means, we tried to apply it to the input layer (i.e. the images) and visualize them. PyTorch has different pre-defined models that are able to do this, the main ones being *Dropout()* and *Dropout2d()*.\n",
        "When given an input of dimensionality 4 (batch size, #channels, 2d image matrix), the two model behave in a similar but diverse fashion.\n",
        "This first example shows how *Dropout()* drops each pixel **in each channel** with probability *p*, therefore creating the visualization below:"
      ]
    },
    {
      "cell_type": "code",
      "metadata": {
        "id": "pXOFuuHiTqRJ",
        "colab_type": "code",
        "outputId": "a4f2793a-0cfb-4d1a-ebcf-1b271100b84e",
        "colab": {
          "base_uri": "https://localhost:8080/",
          "height": 112
        }
      },
      "source": [
        "# The same images with Dropout (p = 0.33)"
      ],
      "execution_count": 0,
      "outputs": [
        {
          "output_type": "stream",
          "text": [
            "Clipping input data to the valid range for imshow with RGB data ([0..1] for floats or [0..255] for integers).\n"
          ],
          "name": "stderr"
        },
        {
          "output_type": "display_data",
          "data": {
            "image/png": "[encoded data removed]",
            "text/plain": [
              "<Figure size 432x288 with 1 Axes>"
            ]
          },
          "metadata": {
            "tags": [],
            "needs_background": "light"
          }
        }
      ]
    },
    {
      "cell_type": "markdown",
      "metadata": {
        "id": "qAcvccOfWHgU",
        "colab_type": "text"
      },
      "source": [
        "On the other hand, *Dropout2d* drops **entire channels** with probability *p*, therefore creating the following images, where dropped channels changed the overall color of many pictures. In particular, the last image disappeared because sampling from the Bernoulli distribution zeroed-out all three channels."
      ]
    },
    {
      "cell_type": "code",
      "metadata": {
        "id": "WGI_j0MOTtQm",
        "colab_type": "code",
        "outputId": "ce10b342-ebcd-42bf-c70e-b423ed414505",
        "colab": {
          "base_uri": "https://localhost:8080/",
          "height": 112
        }
      },
      "source": [
        "# The same images with Dropout2d (p = 0.33)"
      ],
      "execution_count": 0,
      "outputs": [
        {
          "output_type": "stream",
          "text": [
            "Clipping input data to the valid range for imshow with RGB data ([0..1] for floats or [0..255] for integers).\n"
          ],
          "name": "stderr"
        },
        {
          "output_type": "display_data",
          "data": {
            "image/png": "[encoded data removed]",
            "text/plain": [
              "<Figure size 432x288 with 1 Axes>"
            ]
          },
          "metadata": {
            "tags": [],
            "needs_background": "light"
          }
        }
      ]
    },
    {
      "cell_type": "markdown",
      "metadata": {
        "id": "gR-Qt4cbZtgG",
        "colab_type": "text"
      },
      "source": [
        "## Architecture"
      ]
    },
    {
      "cell_type": "markdown",
      "metadata": {
        "id": "GZc3E64oM7Bv",
        "colab_type": "text"
      },
      "source": [
        "We maintained four networks in total, just as in the original paper. Two MNIST networks with Bernoulli and Gaussian dropout and two CIFAR-10 networks with Bernoulli and Gaussian dropout. The architecture of the respective networks are described below.\n"
      ]
    },
    {
      "cell_type": "markdown",
      "metadata": {
        "id": "Tig39lgTNdvr",
        "colab_type": "text"
      },
      "source": [
        "#### MNIST"
      ]
    },
    {
      "cell_type": "markdown",
      "metadata": {
        "id": "wotGuWTES13z",
        "colab_type": "text"
      },
      "source": [
        "For the MNIST network, we utilized a Gaussian distribution for the weight initialization. In addition to this, we used a learning rate scheduler with a gamma of 0.5 with an initial learning rate of 0.001. Although we initially tried to match the initial learning rate and learning rate decay used in the paper, we found that too high of a learning rate can cause numerical instability and introduce NAN's into the tensors which eventually leads to an NAN loss value over time. Since the paper's networks were originally programmed using Tensorflow, it is to be expected that there will be slight differences in implementation; both in our implementation of the network, and Pytorch's implementation of certain algorithms."
      ]
    },
    {
      "cell_type": "markdown",
      "metadata": {
        "id": "mo1hKyS9BQt0",
        "colab_type": "text"
      },
      "source": [
        "The following code describes how weights are initialized for MNIST."
      ]
    },
    {
      "cell_type": "code",
      "metadata": {
        "id": "bj-yVs0hBPwU",
        "colab_type": "code",
        "colab": {}
      },
      "source": [
        "def init_weights(m):\n",
        "    if type(m) == nn.Linear:\n",
        "        # This may need to be changed to just normal_\n",
        "        nn.init.xavier_normal_(m.weight)\n",
        "        # Constant Bias\n",
        "        m.bias.data.fill_(0.01)"
      ],
      "execution_count": 0,
      "outputs": []
    },
    {
      "cell_type": "markdown",
      "metadata": {
        "id": "_0dAmGNbBhDj",
        "colab_type": "text"
      },
      "source": [
        "And the learning and dropout rates as well as other parameters used for the network."
      ]
    },
    {
      "cell_type": "code",
      "metadata": {
        "id": "juoW4p63BWLR",
        "colab_type": "code",
        "colab": {}
      },
      "source": [
        "learning_rate = 0.001\n",
        "momentum = 0.9\n",
        "dropout_rate_hidden = 0.5\n",
        "dropout_rate_input = 0.2"
      ],
      "execution_count": 0,
      "outputs": []
    },
    {
      "cell_type": "markdown",
      "metadata": {
        "id": "j1Tp0MY-Blre",
        "colab_type": "text"
      },
      "source": [
        "We impelements our own Bernoulli and Gaussian Dropout classes to use in the network. One thing to note is that Pytorch has its own implementation of Bernoulli dropout which we took advantage of for our experiments instead. This did not result in any significant difference in performance."
      ]
    },
    {
      "cell_type": "code",
      "metadata": {
        "id": "Nc8ZzR0eCCP1",
        "colab_type": "code",
        "colab": {}
      },
      "source": [
        "class BernoulliDropout(nn.Module):\n",
        "    def __init__(self, p=0.5):\n",
        "        super(BernoulliDropout, self).__init__()\n",
        "        if p < 0 or p > 1:\n",
        "            raise ValueError(\"dropout probability has to be between 0 and 1, \"\n",
        "                             \"but got {}\".format(p))\n",
        "        self.p = p\n",
        "        \n",
        "    def forward(self, x):\n",
        "        binomial = torch.distributions.binomial.Binomial(probs=self.p)\n",
        "        return x * binomial.sample(x.size())"
      ],
      "execution_count": 0,
      "outputs": []
    },
    {
      "cell_type": "code",
      "metadata": {
        "id": "NEEKWi3eCDaP",
        "colab_type": "code",
        "colab": {}
      },
      "source": [
        "class GaussianDropout(nn.Module):\n",
        "    def __init__(self, p=0.5):\n",
        "        super(GaussianDropout, self).__init__()\n",
        "        alpha = p/(1-p)\n",
        "        self.alpha = torch.Tensor([alpha])\n",
        "        \n",
        "    def forward(self, x):\n",
        "#       Sample noise   e ~ N(1, alpha)\n",
        "        epsilon = Variable(torch.randn(x.size()) * self.alpha + 1)\n",
        "        if use_gpu:\n",
        "            epsilon = epsilon.cuda()\n",
        "        return x * epsilon"
      ],
      "execution_count": 0,
      "outputs": []
    },
    {
      "cell_type": "markdown",
      "metadata": {
        "id": "ipyGWOEUCOdr",
        "colab_type": "text"
      },
      "source": [
        "In the network class below, you can find the code for the architecture of the MNIST network with dropout. To use Bernoulli dropout, you can comment out the lines containing Gaussian dropout and uncomment the lines containing ```nn.Dropout```."
      ]
    },
    {
      "cell_type": "code",
      "metadata": {
        "id": "YMh4V9KlC1jk",
        "colab_type": "code",
        "colab": {}
      },
      "source": [
        "class Net(nn.Module):\n",
        "    def __init__(self):\n",
        "        super(Net, self).__init__()\n",
        "        \n",
        "        #self.do1 = nn.Dropout(p=dropout_rate_hidden) \n",
        "        #self.do2 = nn.Dropout(p=dropout_rate_input)\n",
        "\n",
        "        self.do1 = GaussianDropout(dropout_rate_hidden)\n",
        "        self.do2 = GaussianDropout(dropout_rate_input)\n",
        "        \n",
        "        self.fc1 = nn.Linear(28*28, 1024)\n",
        "        self.fc2 = nn.Linear(1024, 1024)\n",
        "        self.fc3 = nn.Linear(1024, 10)\n",
        "\n",
        "    def forward(self, x):\n",
        "        x = self.do2(x.view(-1,28*28))\n",
        "        x = F.relu(self.fc1(self.do1(x)))\n",
        "        x = F.relu(self.fc2(self.do1(x)))\n",
        "        x = self.fc3(x)\n",
        "        return x"
      ],
      "execution_count": 0,
      "outputs": []
    },
    {
      "cell_type": "markdown",
      "metadata": {
        "id": "aMj7HzETEhP8",
        "colab_type": "text"
      },
      "source": [
        "We set up our optimizer and train our MNIST network using the following code. While the number of epochs can be modified, the model generally begins to converge around 2 epochs. In order to visualize our model and the training loss, we write to Tensorboard indicated by ```SummaryWriter```."
      ]
    },
    {
      "cell_type": "code",
      "metadata": {
        "id": "Su1lz-maErs4",
        "colab_type": "code",
        "colab": {}
      },
      "source": [
        "net = Net()\n",
        "net.apply(init_weights)\n",
        "\n",
        "if use_gpu:\n",
        "    net = net.cuda()\n",
        "\n",
        "\n",
        "criterion = nn.CrossEntropyLoss()\n",
        "optimizer = optim.SGD(net.parameters(), lr=learning_rate, momentum=momentum)\n",
        "\n",
        "scheduler = optim.lr_scheduler.ExponentialLR(optimizer, gamma = 0.5)\n",
        "\n",
        "writer = SummaryWriter('runs/mnist_experiment')\n",
        "images, labels = next(iter(mnist_trainloader))\n",
        "grid = torchvision.utils.make_grid(images)\n",
        "\n",
        "writer.add_image('images', grid)\n",
        "writer.add_graph(net, images)\n",
        "\n",
        "for epoch in range(2):  # loop over the dataset multiple times\n",
        "    running_loss = 0.0\n",
        "    for i, data in enumerate(mnist_trainloader, 0):\n",
        "        # get the inputs\n",
        "        inputs, labels = data\n",
        "        if use_gpu:\n",
        "            inputs = inputs.cuda()\n",
        "            labels = labels.cuda()\n",
        "        # zero the parameter gradients\n",
        "        optimizer.zero_grad()\n",
        "\n",
        "        # forward + backward + optimize\n",
        "        outputs = net(inputs)\n",
        "        loss = criterion(outputs, labels)\n",
        "        loss.backward()\n",
        "        optimizer.step()\n",
        "\n",
        "        # print statistics\n",
        "        running_loss += loss.item()\n",
        "        if i % 1000 == 999:\n",
        "            print('[%d, %5d] loss: %.3f' %\n",
        "                  (epoch + 1, i + 1, running_loss / 1000))\n",
        "            writer.add_scalar('MNIST training loss', running_loss / 1000, epoch + 1) \n",
        "            running_loss = 0.0\n",
        "            niter = epoch * len(mnist_trainloader) + i\n",
        "    scheduler.step()\n",
        "print('Finished Training')"
      ],
      "execution_count": 0,
      "outputs": []
    },
    {
      "cell_type": "markdown",
      "metadata": {
        "id": "0TRN-3M3NwaG",
        "colab_type": "text"
      },
      "source": [
        "#### CIFAR-10"
      ]
    },
    {
      "cell_type": "markdown",
      "metadata": {
        "id": "vWutpBPLSTYk",
        "colab_type": "text"
      },
      "source": [
        "For the CIFAR-10 network, we used Global contrast normalisation and then ZCA whitening for preprocessing.\n",
        "To match the paper, we utilized a uniform distribution for weight initialization. In particular, following the work of \"*Understanding the difficulty of training deep feedforward neural networks*\" by Glorot et al., we fill in the tensors with values sampled from $\\mathit{U}(-a, a)$, where \n",
        "\n",
        "$a = \\mathrm{gain} \\cdot \\sqrt{\\frac{6}{\\mathrm{fan\\_in} + \\mathrm{fan\\_out}}} $\n",
        "\n",
        "This is also known as Glorot initialization."
      ]
    },
    {
      "cell_type": "code",
      "metadata": {
        "id": "uYgVufTN_liF",
        "colab_type": "code",
        "colab": {}
      },
      "source": [
        "def init_weights(m):\n",
        "    if type(m) == nn.Linear:\n",
        "        #weight initialisation\n",
        "        # this returns the recommended gain for the given non linearity\n",
        "        nn.init.xavier_uniform_(m.weight, gain=nn.init.calculate_gain('relu'))\n",
        "        #constant bias.\n",
        "        m.bias.data.fill_(-0.05)\n",
        "    if type(m) == nn.Conv2d:\n",
        "        #weight initialisation\n",
        "        nn.init.xavier_uniform_(m.weight, gain = nn.init.calculate_gain('relu'))\n",
        "        #constant bias\n",
        "        m.bias.data.fill_(-0.05)"
      ],
      "execution_count": 0,
      "outputs": []
    },
    {
      "cell_type": "markdown",
      "metadata": {
        "id": "IU9B3VTVh2hH",
        "colab_type": "text"
      },
      "source": [
        "Next, we present the code for Global Contrast normalization, which is done on the dataset during the loading phase."
      ]
    },
    {
      "cell_type": "code",
      "metadata": {
        "id": "LCNnEy93iEmY",
        "colab_type": "code",
        "colab": {}
      },
      "source": [
        "transform =transforms.Compose(    [      \n",
        "    transforms.ToTensor(),  # Dataset images are in Pillow format, but we need them as tensors\n",
        "    transforms.Normalize((0.4914, 0.4822, 0.4465), (0.2427, 0.2392, 0.2559))\n",
        "    ])\n",
        "trainSet = torchvision.datasets.CIFAR10(\n",
        "    root='./data',  # where the dataset is/will be stored\n",
        "    train=True,  # creates the dataset FROM the train set\n",
        "    download=True,  # If True, downloads the dataset from the internet\n",
        "    transform=transform)"
      ],
      "execution_count": 0,
      "outputs": []
    },
    {
      "cell_type": "markdown",
      "metadata": {
        "id": "0l0pyl5JiTkf",
        "colab_type": "text"
      },
      "source": [
        "Moreover, here's the code for ZCA whitening. ZCA whitening means that we\n",
        "mean center the data, rotate it onto its principle components, normalize each component and then rotate it back."
      ]
    },
    {
      "cell_type": "code",
      "metadata": {
        "id": "XaehfBkIilz8",
        "colab_type": "code",
        "colab": {}
      },
      "source": [
        "def zca(inputs):\n",
        "    initial_shape = inputs.shape\n",
        "    inputs=inputs.reshape(initial_shape[0],-1) # flattening\n",
        "\n",
        "    X = inputs\n",
        "    X = X - X.mean(axis=0)\n",
        "  # compute the covariance of the image data\n",
        "\n",
        "    cov = np.cov(X, rowvar=True)   # cov is (N, N)\n",
        "  # singular value decomposition\n",
        "    U,S,V = np.linalg.svd(cov)     # U is (N, N), S is (N,)\n",
        "  # build the ZCA matrix\n",
        "    epsilon = 1e-15\n",
        "    zca_matrix = np.dot(U, np.dot(np.diag(1.0/np.sqrt(S + epsilon)), U.T))\n",
        "  # transform the image data       zca_matrix is (N,N)\n",
        "    zca = np.dot(zca_matrix,X)    # zca is (N, 3072)\n",
        "    return zca.reshape(initial_shape)"
      ],
      "execution_count": 0,
      "outputs": []
    },
    {
      "cell_type": "markdown",
      "metadata": {
        "id": "d7oBTLhtjB0P",
        "colab_type": "text"
      },
      "source": [
        "Finally, after trying different algorithms and a variety of hyperparameters, we used SGD with the following hyperparameters.\n",
        "Our experiments showed that batch size, learning rate and number of epochs are the most important parameters to achieve big improvements in accuracy and training speed. 200 epochs are not enough to reach the baseline accuracy, but it allowed us to test many different model architectures and hyperparameters.\n",
        "For the loss, we used cross entropy like in the orginal paper."
      ]
    },
    {
      "cell_type": "code",
      "metadata": {
        "id": "zQ_av0tQjaGj",
        "colab_type": "code",
        "colab": {}
      },
      "source": [
        "criterion = nn.CrossEntropyLoss()\n",
        "batch_size = 100\n",
        "lr = 0.002\n",
        "momentum = 0.8\n",
        "weight_decay = 0.001\n",
        "number_of_epochs = 200"
      ],
      "execution_count": 0,
      "outputs": []
    },
    {
      "cell_type": "markdown",
      "metadata": {
        "id": "Q4bBObTXOKVO",
        "colab_type": "text"
      },
      "source": [
        "## Results and Evaluation"
      ]
    },
    {
      "cell_type": "markdown",
      "metadata": {
        "id": "bBaunz_V-HY_",
        "colab_type": "text"
      },
      "source": [
        "In the following section, we discuss the results of our networks. Although we didn't expect to get the same exact values, we believed that there would be a somewhat similar trend in differences between Bernoulli and Gaussian dropout found in the original paper."
      ]
    },
    {
      "cell_type": "markdown",
      "metadata": {
        "id": "DIobfehz3li4",
        "colab_type": "text"
      },
      "source": [
        "#### MNIST"
      ]
    },
    {
      "cell_type": "markdown",
      "metadata": {
        "id": "Tt8091r43rdJ",
        "colab_type": "text"
      },
      "source": [
        "The following are the classification error results for our MNIST network which is averaged across 10 runs. The code used for running the tests can be found below.\n",
        "\n",
        "| Dataset  | Architecture  | Bernoulli dropout  | Gaussian dropout  | Without dropout |\n",
        "|:---:|:---:|:---:|:---:|:---:|\n",
        "| MNIST | 2 layers, 1024 units each | 7.567% ± 0.327% | 6.386% ± 0.324% | 3.18% ± 0.433 |\n",
        "\n",
        "<p align=\"center\">\n",
        "Table 3: Comparison of classification error % with Bernoulli and Gaussian dropout in reproduced experiments\n",
        "</p>"
      ]
    },
    {
      "cell_type": "markdown",
      "metadata": {
        "id": "GqiM3ps9FJgI",
        "colab_type": "text"
      },
      "source": [
        "As can be seen, there is a consistently higher accuracy of more than 1% for Gaussian dropout when compared with Bernoulli dropout. However, when comparing with the results of the paper, the accuracy is lower for the respective techniques. As mentioned in previous sections, we used Pytorch, so there is potential for differences in Pytorch's implementations of algorithms to affect our accuracies. Interestingly enough, we found that for MNIST, the error was lower without dropout. Since the authors did not include the recorded measures for the networks without dropout, we are unable to determine how the author's work compares for networks without dropout."
      ]
    },
    {
      "cell_type": "markdown",
      "metadata": {
        "id": "3cmblkyfk2Gz",
        "colab_type": "text"
      },
      "source": [
        "#### CIFAR-10"
      ]
    },
    {
      "cell_type": "markdown",
      "metadata": {
        "id": "Hq047c51lnGb",
        "colab_type": "text"
      },
      "source": [
        "The following are the classification accuracy results for our CIFAR-10 network which is averaged across 5 runs. This shows that for our model, Bernoulli is the one performing the best, with Gaussian doing worse than the network with no dropout.\n",
        "\n",
        "In addition, we decided to try and add Batch Normalization to our network, which normalizes the output of **all** layers *before* the activation functions. For batch normalization, we used the pre-defined PyTorch model ```torch.nn.BatchNorm2d(num_features=..)```. However, this does not seem to increase the performance of the models.\n",
        "\n",
        "We believe that by training for a longer time, we could be able to achieve higher accuracies.\n",
        "\n",
        "| Dataset  | Architecture  | Bernoulli dropout  | Gaussian dropout  | Without dropout |\n",
        "|:---:|:---:|:---:|:---:|:---:|\n",
        "| CIFAR-10 | 3 conv + 2 fully connected layers | 16.42% ± 0.511% | 23.29% ± 0.701% | 22.02% ± 0.433% |\n",
        "| CIFAR-10 | Same with Batch Normalization | 17.00% ± 0.567% | 23.94% ± 0.501% |  |\n",
        "\n",
        "<p align=\"center\">\n",
        "Table 4: Comparison of classification accuracy with Bernoulli and Gaussian dropout in reproduced experiments, and comparison to batch normalization\n",
        "</p>\n",
        "\n"
      ]
    },
    {
      "cell_type": "markdown",
      "metadata": {
        "id": "fVTjQHAZaADJ",
        "colab_type": "text"
      },
      "source": [
        "## Conclusion"
      ]
    },
    {
      "cell_type": "markdown",
      "metadata": {
        "id": "F3dCnM4EyXTR",
        "colab_type": "text"
      },
      "source": [
        "As reported in previous sections, for MNIST, the use of Gaussian dropout results in a 1% improvement over Bernoulli dropout with no overlapping values in test error.\n",
        "For CIFAR-10, Bernoulli seems to be performing the best with 7% improvement, given the limited amount of training time we could give our models.\n",
        "\n",
        "These results do not match Table 10 of the Dropout paper where Gaussian dropout performed better in both cases. However, this could be as a result of differences in implementation previously mentiones."
      ]
    },
    {
      "cell_type": "markdown",
      "metadata": {
        "id": "ScIcgV1D6IAw",
        "colab_type": "text"
      },
      "source": [
        "## Appendix"
      ]
    },
    {
      "cell_type": "markdown",
      "metadata": {
        "id": "LD1B9ltYCa5t",
        "colab_type": "text"
      },
      "source": [
        "### Testing MNIST network"
      ]
    },
    {
      "cell_type": "code",
      "metadata": {
        "id": "8VCW-GkTrWE_",
        "colab_type": "code",
        "colab": {}
      },
      "source": [
        "mnist_testSet = torchvision.datasets.MNIST(\n",
        "    root='../data',\n",
        "    train=False,\n",
        "    download=True,\n",
        "    transform=torchvision.transforms.Compose([\n",
        "        torchvision.transforms.ToTensor(),\n",
        "        torchvision.transforms.Normalize((0.1307,), (0.3081,))])\n",
        ")\n",
        "\n",
        "mnist_testLoader = torch.utils.data.DataLoader(\n",
        "    mnist_testSet,\n",
        "    batch_size=batch_size_train,\n",
        "    shuffle=False,\n",
        "    num_workers=0\n",
        ")\n",
        "\n",
        "total = 0\n",
        "correct = 0\n",
        "print(len(testLoader))\n",
        "with torch.no_grad():\n",
        "    for data in testLoader:\n",
        "        images, labels = data\n",
        "        if use_gpu:\n",
        "            images = images.cuda()\n",
        "            labels = labels.cuda()\n",
        "        outputs = net(images)\n",
        "        _, predicted = torch.max(outputs.data, 1)\n",
        "        total += labels.size(0)\n",
        "        correct += (predicted == labels).sum().item()\n",
        "\n",
        "print('Accuracy of the network on the 10000 test images: ' + str(\n",
        "    100 * correct / total) + \"%\")"
      ],
      "execution_count": 0,
      "outputs": []
    },
    {
      "cell_type": "markdown",
      "metadata": {
        "id": "Ai9ED5k0DcsS",
        "colab_type": "text"
      },
      "source": [
        "### CIFAR-10 network"
      ]
    },
    {
      "cell_type": "markdown",
      "metadata": {
        "id": "zWsSCtPkxJIV",
        "colab_type": "text"
      },
      "source": [
        "Here's an example of the CIFAR-10 model with Bernoulli dropout. The other models are very similar to this one."
      ]
    },
    {
      "cell_type": "code",
      "metadata": {
        "id": "4CSGaX4HxP5L",
        "colab_type": "code",
        "colab": {}
      },
      "source": [
        "class Net(nn.Module):  # Module is the base class for all neural network modules\n",
        "\n",
        "    def __init__(self):\n",
        "         \n",
        "        super(Net, self).__init__()\n",
        "        \n",
        "        # Dropout2d randomly zero out entire channels\n",
        "        # every channel will be zeroed out independently on every forward call \n",
        "        self.do1 = nn.Dropout(p=0.1)\n",
        "        self.do2 = nn.Dropout(p=0.25)\n",
        "        self.do3 = nn.Dropout(p=0.5)\n",
        "        self.do4 = nn.Dropout(p=0.5)\n",
        "        \n",
        "        self.conv1 = nn.Conv2d(\n",
        "            3, # IN channels\n",
        "            96, # OUT channels\n",
        "            5, # kernel size\n",
        "            padding = 2, # The amount of implicit zero-paddings on both sides\n",
        "            stride = 1 # 1 is already the default but it's better to specify it\n",
        "        )\n",
        "\n",
        "        self.conv2 = nn.Conv2d(96, 128, 5, padding = 2, stride = 1)\n",
        "        self.conv3 = nn.Conv2d(128,256, 5, padding = 2, stride = 1)\n",
        "        self.fc1 = nn.Linear(2304, 2048)\n",
        "        self.fc2 = nn.Linear(2048, 1024)\n",
        "        self.fc3 = nn.Linear(1024,10)\n",
        "        self.pool = nn.MaxPool2d(3, 2)\n",
        "        \n",
        "        \n",
        "    def forward(self, x):\n",
        "        x = self.do1(x)\n",
        "        x = self.do2(self.pool(F.relu(self.conv1(x))))\n",
        "        x = self.do2(self.pool(F.relu(self.conv2(x))))\n",
        "        x = self.do3(self.pool(F.relu(self.conv3(x))))\n",
        "        x = x.view(-1, 2304)\n",
        "        x = self.do4(F.relu(self.fc1(x)))\n",
        "        x = self.do4(F.relu(self.fc2(x)))\n",
        "        x = self.fc3(x)\n",
        "        return x"
      ],
      "execution_count": 0,
      "outputs": []
    }
  ]
}